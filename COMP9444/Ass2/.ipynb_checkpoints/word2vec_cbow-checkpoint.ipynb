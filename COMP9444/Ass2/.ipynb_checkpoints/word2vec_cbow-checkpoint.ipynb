{
 "cells": [
  {
   "cell_type": "markdown",
   "metadata": {
    "colab_type": "text",
    "id": "D7tqLMoKF6uq"
   },
   "source": [
    "## word2vec implementation in CBOW"
   ]
  },
  {
   "cell_type": "code",
   "execution_count": 2,
   "metadata": {
    "cellView": "both",
    "colab": {
     "autoexec": {
      "startup": false,
      "wait_interval": 0
     }
    },
    "colab_type": "code",
    "collapsed": true,
    "id": "0K1ZyLn04QZf"
   },
   "outputs": [],
   "source": [
    "# These are all the modules we'll be using later. Make sure you can import them\n",
    "# before proceeding further.\n",
    "%matplotlib inline\n",
    "from __future__ import print_function # 保证python2 python3兼容\n",
    "import collections # 单词计数很方便\n",
    "import math\n",
    "import numpy as np\n",
    "import os\n",
    "import random\n",
    "import tensorflow as tf\n",
    "import zipfile\n",
    "from matplotlib import pylab\n",
    "from six.moves import range\n",
    "from six.moves.urllib.request import urlretrieve # 保证python2 python3兼容\n",
    "from sklearn.manifold import TSNE"
   ]
  },
  {
   "cell_type": "markdown",
   "metadata": {
    "colab_type": "text",
    "id": "aCjPJE944bkV"
   },
   "source": [
    "## Download the data from the source website if necessary."
   ]
  },
  {
   "cell_type": "code",
   "execution_count": 3,
   "metadata": {
    "cellView": "both",
    "colab": {
     "autoexec": {
      "startup": false,
      "wait_interval": 0
     },
     "output_extras": [
      {
       "item_id": 1
      }
     ]
    },
    "colab_type": "code",
    "executionInfo": {
     "elapsed": 14640,
     "status": "ok",
     "timestamp": 1445964482948,
     "user": {
      "color": "#1FA15D",
      "displayName": "Vincent Vanhoucke",
      "isAnonymous": false,
      "isMe": true,
      "permissionId": "05076109866853157986",
      "photoUrl": "//lh6.googleusercontent.com/-cCJa7dTDcgQ/AAAAAAAAAAI/AAAAAAAACgw/r2EZ_8oYer4/s50-c-k-no/photo.jpg",
      "sessionId": "2f1ffade4c9f20de",
      "userId": "102167687554210253930"
     },
     "user_tz": 420
    },
    "id": "RJ-o3UBUFtCw",
    "outputId": "c4ec222c-80b5-4298-e635-93ca9f79c3b7"
   },
   "outputs": [
    {
     "name": "stdout",
     "output_type": "stream",
     "text": [
      "Found and verified text8.zip\n"
     ]
    }
   ],
   "source": [
    "url = 'http://mattmahoney.net/dc/'\n",
    "\n",
    "def maybe_download(filename, expected_bytes):\n",
    "  \"\"\"Download a file if not present, and make sure it's the right size.\"\"\"\n",
    "  if not os.path.exists(filename):\n",
    "    filename, _ = urlretrieve(url + filename, filename)\n",
    "  statinfo = os.stat(filename)\n",
    "  if statinfo.st_size == expected_bytes:\n",
    "    print('Found and verified %s' % filename)\n",
    "  else:\n",
    "    print(statinfo.st_size)\n",
    "    raise Exception(\n",
    "      'Failed to verify ' + filename + '. Can you get to it with a browser?')\n",
    "  return filename\n",
    "\n",
    "filename = maybe_download('text8.zip', 31344016)"
   ]
  },
  {
   "cell_type": "markdown",
   "metadata": {
    "colab_type": "text",
    "id": "Zqz3XiqI4mZT"
   },
   "source": [
    "## Read the data into a string."
   ]
  },
  {
   "cell_type": "code",
   "execution_count": 4,
   "metadata": {
    "cellView": "both",
    "colab": {
     "autoexec": {
      "startup": false,
      "wait_interval": 0
     },
     "output_extras": [
      {
       "item_id": 1
      }
     ]
    },
    "colab_type": "code",
    "executionInfo": {
     "elapsed": 28844,
     "status": "ok",
     "timestamp": 1445964497165,
     "user": {
      "color": "#1FA15D",
      "displayName": "Vincent Vanhoucke",
      "isAnonymous": false,
      "isMe": true,
      "permissionId": "05076109866853157986",
      "photoUrl": "//lh6.googleusercontent.com/-cCJa7dTDcgQ/AAAAAAAAAAI/AAAAAAAACgw/r2EZ_8oYer4/s50-c-k-no/photo.jpg",
      "sessionId": "2f1ffade4c9f20de",
      "userId": "102167687554210253930"
     },
     "user_tz": 420
    },
    "id": "Mvf09fjugFU_",
    "outputId": "e3a928b4-1645-4fe8-be17-fcf47de5716d"
   },
   "outputs": [
    {
     "name": "stdout",
     "output_type": "stream",
     "text": [
      "Data size 17005207\n"
     ]
    }
   ],
   "source": [
    "# 然后是读入压缩包里第一个文件的所有内容，\n",
    "# 并以空格分割，形成一个很大的list\n",
    "def read_data(filename):\n",
    "  \"\"\"Extract the first file enclosed in a zip file as a list of words\"\"\"\n",
    "  with zipfile.ZipFile(filename) as f:\n",
    "    data = tf.compat.as_str(f.read(f.namelist()[0])).split()\n",
    "  return data\n",
    "  \n",
    "words = read_data(filename)\n",
    "print('Data size %d' % len(words))"
   ]
  },
  {
   "cell_type": "markdown",
   "metadata": {
    "colab_type": "text",
    "id": "Zdw6i4F8glpp"
   },
   "source": [
    "## Build the dictionary and replace rare words with UNK token."
   ]
  },
  {
   "cell_type": "code",
   "execution_count": 5,
   "metadata": {
    "cellView": "both",
    "colab": {
     "autoexec": {
      "startup": false,
      "wait_interval": 0
     },
     "output_extras": [
      {
       "item_id": 1
      }
     ]
    },
    "colab_type": "code",
    "collapsed": true,
    "executionInfo": {
     "elapsed": 28849,
     "status": "ok",
     "timestamp": 1445964497178,
     "user": {
      "color": "#1FA15D",
      "displayName": "Vincent Vanhoucke",
      "isAnonymous": false,
      "isMe": true,
      "permissionId": "05076109866853157986",
      "photoUrl": "//lh6.googleusercontent.com/-cCJa7dTDcgQ/AAAAAAAAAAI/AAAAAAAACgw/r2EZ_8oYer4/s50-c-k-no/photo.jpg",
      "sessionId": "2f1ffade4c9f20de",
      "userId": "102167687554210253930"
     },
     "user_tz": 420
    },
    "id": "gAL1EECXeZsD",
    "outputId": "3fb4ecd1-df67-44b6-a2dc-2291730970b2"
   },
   "outputs": [],
   "source": [
    "# data: 把原文的词转换为编码\n",
    "# count: 频度最高的50000-1个单词按频度排序\n",
    "# dictionary: 根据单词查询编码(频度排名)\n",
    "# reverse_dictionary: 根据编码查询单词\n",
    "\n",
    "vocabulary_size = 50000\n",
    "\n",
    "def build_dataset(words):\n",
    "  count = [['UNK', -1]]\n",
    "    \n",
    "  # 单词计数: 找频度最高的50000-1个单词, 剩下的都是UNK\n",
    "  # 按频度顺序编号存储在字典里, 最多的UNK-0, the-1, of-2, ...\n",
    "  # 之后可以根据单词快速查找编号\n",
    "  count.extend(collections.Counter(words).most_common(vocabulary_size - 1))\n",
    "  dictionary = dict()\n",
    "  for word, _ in count:\n",
    "    dictionary[word] = len(dictionary)\n",
    "  data = list()\n",
    "  unk_count = 0\n",
    "  #data: 原文的词都转化成对应编码以后的串\n",
    "  for word in words:\n",
    "    if word in dictionary:\n",
    "      index = dictionary[word]\n",
    "    else:\n",
    "      index = 0  # dictionary['UNK']\n",
    "      unk_count = unk_count + 1\n",
    "    data.append(index)\n",
    "  count[0][1] = unk_count\n",
    "  reverse_dictionary = dict(zip(dictionary.values(), dictionary.keys())) \n",
    "  return data, count, dictionary, reverse_dictionary"
   ]
  },
  {
   "cell_type": "code",
   "execution_count": 6,
   "metadata": {
    "collapsed": true
   },
   "outputs": [],
   "source": [
    "data, count, dictionary, reverse_dictionary = build_dataset(words)"
   ]
  },
  {
   "cell_type": "code",
   "execution_count": 8,
   "metadata": {},
   "outputs": [
    {
     "name": "stdout",
     "output_type": "stream",
     "text": [
      "Most common words (+UNK) [['UNK', 418391], ('the', 1061396), ('of', 593677), ('and', 416629), ('one', 411764)]\n"
     ]
    }
   ],
   "source": [
    "# 出现频率最高的5个单词\n",
    "print('Most common words (+UNK)', count[:5])"
   ]
  },
  {
   "cell_type": "code",
   "execution_count": 9,
   "metadata": {},
   "outputs": [
    {
     "name": "stdout",
     "output_type": "stream",
     "text": [
      "2\n",
      "in\n"
     ]
    }
   ],
   "source": [
    "# 查询'of'的编码\n",
    "print(dictionary['of'])\n",
    "# 查询编码为5的单词的频率\n",
    "print(reverse_dictionary[5])"
   ]
  },
  {
   "cell_type": "code",
   "execution_count": 10,
   "metadata": {},
   "outputs": [
    {
     "name": "stdout",
     "output_type": "stream",
     "text": [
      "Sample data [5239, 3084, 12, 6, 195, 2, 3137, 46, 59, 156]\n"
     ]
    }
   ],
   "source": [
    "# words中前10个单词转换为编码\n",
    "print('Sample data', data[:10])"
   ]
  },
  {
   "cell_type": "code",
   "execution_count": 11,
   "metadata": {
    "collapsed": true
   },
   "outputs": [],
   "source": [
    "del words  # Hint to reduce memory."
   ]
  },
  {
   "cell_type": "markdown",
   "metadata": {
    "colab_type": "text",
    "id": "lFwoyygOmWsL"
   },
   "source": [
    "## Function to generate a training batch for CBOW"
   ]
  },
  {
   "cell_type": "code",
   "execution_count": 12,
   "metadata": {
    "collapsed": true
   },
   "outputs": [],
   "source": [
    "data_index = 0"
   ]
  },
  {
   "cell_type": "code",
   "execution_count": 32,
   "metadata": {
    "collapsed": true
   },
   "outputs": [],
   "source": [
    "## CBOW和skip-gram刚好相反: 给定周围的词, 预测中心词\n",
    "# cbow_window = 1 --> span = 1 * 2 + 1 = 3\n",
    "# the dog barked at the mailman --> \n",
    "#   [the dog barked]: [the barked]->dog \n",
    "#   [dog barked at]: [dog at]->barked\n",
    "#   [barked at the]: [barked the]->at\n",
    "#   [at the mailman]: [at mailman]->the\n",
    "# Thus batch is [['the','barked'],['dog','at'],['barked','the'],['at','mailman']]\n",
    "# Thus label is ['dog','barked','at','the']\n",
    "# 由于利用了多个上下文的信息, CBOW的效果可能比skip-gram要好"
   ]
  },
  {
   "cell_type": "code",
   "execution_count": 92,
   "metadata": {},
   "outputs": [],
   "source": [
    "# 不需要num_skips\n",
    "def generate_batch_cbow(batch_size, skip_window):\n",
    "    # 全局变量, 用于记录当前取到哪里了\n",
    "    global data_index\n",
    "    \n",
    "    assert batch_size > 2 * skip_window\n",
    "    \n",
    "    # 每次取一个batch后会向后移动\n",
    "    batch = [] # np.ndarray(shape=(batch_size), dtype=np.int32)\n",
    "    labels = [] # np.ndarray(shape=(batch_size, 1), dtype=np.int32)\n",
    "    span = 2 * skip_window + 1 # [ skip_window target skip_window ]\n",
    "    \n",
    "    \n",
    "    # 双向队列, 每次从后面加东西时, 前面删东西\n",
    "    buffer = collections.deque(maxlen=span)\n",
    "    \n",
    "    for _ in range(span): # 整个窗口\n",
    "        buffer.append(data[data_index])\n",
    "        data_index = (data_index + 1) % len(data)\n",
    "    \n",
    "    for i in range(batch_size): # range(batch_size - 2 * skip_window):\n",
    "        # target = skip_window  # target label at the center of the buffer\n",
    "        # targets_to_avoid = [ skip_window ]\n",
    "        \n",
    "        # TEST\n",
    "        print(\"第 {} 次采样 : \".format(i+1))\n",
    "        buffer_words = []\n",
    "        for k in buffer:\n",
    "            buffer_words.append(reverse_dictionary[k])\n",
    "        print(\"Buffer :\", buffer_words)\n",
    "        print(\"Now let's begin\")\n",
    "        \n",
    "        contents = [buffer[i] for i in range(len(buffer)) if i != skip_window]\n",
    "            \n",
    "        # TEST\n",
    "        content_words = []\n",
    "        for k in contents:\n",
    "            content_words.append(reverse_dictionary[k])\n",
    "        print (\"Contents : \", content_words)\n",
    "        print (\"Center word : \", reverse_dictionary[buffer[skip_window]])\n",
    "        print (\"-----\")\n",
    "            \n",
    "        # 记录上下文:\n",
    "        batch.append(contents)\n",
    "        \n",
    "        # 记录中心词\n",
    "        labels.append(buffer[skip_window])\n",
    "            \n",
    "        # TEST\n",
    "        print (\"This buffer is end!\")\n",
    "        print (\"^*^*^*^\")\n",
    "        \n",
    "        buffer.append(data[data_index]) # 比如这次搞完了就从后面重新加buffer, 同时原来的数据被从前面删除\n",
    "        data_index = (data_index + 1) % len(data)\n",
    "    \n",
    "    batch = np.array(batch, dtype=np.int32)\n",
    "    print(\"The shape of batch is : \", batch.shape)\n",
    "    labels = np.array(labels, dtype=np.int32).reshape((8,1))\n",
    "    print(\"The shape of labels is : \", labels.shape)\n",
    "        \n",
    "    return batch, labels"
   ]
  },
  {
   "cell_type": "code",
   "execution_count": 93,
   "metadata": {},
   "outputs": [
    {
     "name": "stdout",
     "output_type": "stream",
     "text": [
      "data: ['anarchism', 'originated', 'as', 'a', 'term', 'of', 'abuse', 'first']\n",
      "第 1 次采样 : \n",
      "Buffer : ['anarchism', 'originated', 'as', 'a', 'term']\n",
      "Now let's begin\n",
      "Contents :  ['anarchism', 'originated', 'a', 'term']\n",
      "Center word :  as\n",
      "-----\n",
      "This buffer is end!\n",
      "^*^*^*^\n",
      "第 2 次采样 : \n",
      "Buffer : ['originated', 'as', 'a', 'term', 'of']\n",
      "Now let's begin\n",
      "Contents :  ['originated', 'as', 'term', 'of']\n",
      "Center word :  a\n",
      "-----\n",
      "This buffer is end!\n",
      "^*^*^*^\n",
      "第 3 次采样 : \n",
      "Buffer : ['as', 'a', 'term', 'of', 'abuse']\n",
      "Now let's begin\n",
      "Contents :  ['as', 'a', 'of', 'abuse']\n",
      "Center word :  term\n",
      "-----\n",
      "This buffer is end!\n",
      "^*^*^*^\n",
      "第 4 次采样 : \n",
      "Buffer : ['a', 'term', 'of', 'abuse', 'first']\n",
      "Now let's begin\n",
      "Contents :  ['a', 'term', 'abuse', 'first']\n",
      "Center word :  of\n",
      "-----\n",
      "This buffer is end!\n",
      "^*^*^*^\n",
      "第 5 次采样 : \n",
      "Buffer : ['term', 'of', 'abuse', 'first', 'used']\n",
      "Now let's begin\n",
      "Contents :  ['term', 'of', 'first', 'used']\n",
      "Center word :  abuse\n",
      "-----\n",
      "This buffer is end!\n",
      "^*^*^*^\n",
      "第 6 次采样 : \n",
      "Buffer : ['of', 'abuse', 'first', 'used', 'against']\n",
      "Now let's begin\n",
      "Contents :  ['of', 'abuse', 'used', 'against']\n",
      "Center word :  first\n",
      "-----\n",
      "This buffer is end!\n",
      "^*^*^*^\n",
      "第 7 次采样 : \n",
      "Buffer : ['abuse', 'first', 'used', 'against', 'early']\n",
      "Now let's begin\n",
      "Contents :  ['abuse', 'first', 'against', 'early']\n",
      "Center word :  used\n",
      "-----\n",
      "This buffer is end!\n",
      "^*^*^*^\n",
      "第 8 次采样 : \n",
      "Buffer : ['first', 'used', 'against', 'early', 'working']\n",
      "Now let's begin\n",
      "Contents :  ['first', 'used', 'early', 'working']\n",
      "Center word :  against\n",
      "-----\n",
      "This buffer is end!\n",
      "^*^*^*^\n",
      "The shape of batch is :  (8, 4)\n",
      "The shape of labels is :  (8, 1)\n",
      "[[5239 3084    6  195]\n",
      " [3084   12  195    2]\n",
      " [  12    6    2 3137]\n",
      " [   6  195 3137   46]\n",
      " [ 195    2   46   59]\n",
      " [   2 3137   59  156]\n",
      " [3137   46  156  128]\n",
      " [  46   59  128  742]]\n",
      "[[  12]\n",
      " [   6]\n",
      " [ 195]\n",
      " [   2]\n",
      " [3137]\n",
      " [  46]\n",
      " [  59]\n",
      " [ 156]]\n"
     ]
    }
   ],
   "source": [
    "# CBOW TEST\n",
    "print('data:', [reverse_dictionary[di] for di in data[:8]])\n",
    "data_index = 0\n",
    "batch, labels = generate_batch_cbow(batch_size=8, skip_window=2)\n",
    "print(batch)\n",
    "print(labels)"
   ]
  },
  {
   "cell_type": "markdown",
   "metadata": {},
   "source": [
    "## Below are skip-gram just for testing"
   ]
  },
  {
   "cell_type": "code",
   "execution_count": 95,
   "metadata": {
    "cellView": "both",
    "colab": {
     "autoexec": {
      "startup": false,
      "wait_interval": 0
     },
     "output_extras": [
      {
       "item_id": 1
      }
     ]
    },
    "colab_type": "code",
    "collapsed": true,
    "executionInfo": {
     "elapsed": 113,
     "status": "ok",
     "timestamp": 1445964901989,
     "user": {
      "color": "#1FA15D",
      "displayName": "Vincent Vanhoucke",
      "isAnonymous": false,
      "isMe": true,
      "permissionId": "05076109866853157986",
      "photoUrl": "//lh6.googleusercontent.com/-cCJa7dTDcgQ/AAAAAAAAAAI/AAAAAAAACgw/r2EZ_8oYer4/s50-c-k-no/photo.jpg",
      "sessionId": "2f1ffade4c9f20de",
      "userId": "102167687554210253930"
     },
     "user_tz": 420
    },
    "id": "w9APjA-zmfjV",
    "outputId": "67cccb02-cdaf-4e47-d489-43bcc8d57bb8"
   },
   "outputs": [],
   "source": [
    "# skip_window: 确定两边取多远, e.g. skip_window = 2 --> 左右两个单词, span = 2 * 2 + 1 = 5\n",
    "# num_skips: [存疑] 需要对buffer进行多少次才采样，才开始对下一个buffer进行采样 \n",
    "# batch: 我们输入的词\n",
    "# label: 预测的词\n",
    "def generate_batch(batch_size, num_skips, skip_window):\n",
    "    # 全局变量, 用于记录当前取到哪里了\n",
    "    global data_index\n",
    "    \n",
    "    # 因为采样次数 == batch_size // num_skips, 这里需要保证可以整除\n",
    "    assert batch_size % num_skips == 0\n",
    "    \n",
    "    # 防止skip过大, 大过窗口, 例如num_skips = 4, skip_window = 1就傻逼了\n",
    "    assert num_skips <= 2 * skip_window\n",
    "    \n",
    "    # 每次取一个batch后会向后移动\n",
    "    batch = np.ndarray(shape=(batch_size), dtype=np.int32)\n",
    "    labels = np.ndarray(shape=(batch_size, 1), dtype=np.int32)\n",
    "    span = 2 * skip_window + 1 # [ skip_window target skip_window ]\n",
    "    \n",
    "    # 双向队列, 每次从后面加东西时, 前面删东西\n",
    "    buffer = collections.deque(maxlen=span)\n",
    "    \n",
    "    for _ in range(span): # 整个窗口\n",
    "        buffer.append(data[data_index])\n",
    "        data_index = (data_index + 1) % len(data)\n",
    "    \n",
    "    for i in range(batch_size // num_skips): # 对这个buffer采样 batch_size // num_skips次\n",
    "        target = skip_window  \n",
    "        \n",
    "        targets_to_avoid = [ skip_window ]\n",
    "        \n",
    "        # TEST\n",
    "        print(\"第 {} 次采样 : \".format(i+1))\n",
    "        buffer_words = []\n",
    "        for k in buffer:\n",
    "            buffer_words.append(reverse_dictionary[k])\n",
    "        print(\"Buffer :\", buffer_words)\n",
    "        print(\"Now let's begin\")\n",
    "        \n",
    "        for j in range(num_skips):\n",
    "            while target in targets_to_avoid:\n",
    "                target = random.randint(0, span - 1)\n",
    "            \n",
    "            \n",
    "            print(\"Target :\", target)\n",
    "            \n",
    "            targets_to_avoid.append(target)\n",
    "            # 记录输入数据（中心词）\n",
    "            batch[i * num_skips + j] = buffer[skip_window] # 中心词位置 buffer[skip_window], 因此buffer中剩下的位置就是非中心词咯\n",
    "            # 记录输入数据对应的类型（上下文内容）\n",
    "            labels[i * num_skips + j, 0] = buffer[target]\n",
    "            \n",
    "            # TEST\n",
    "            print (\"Center word : \", reverse_dictionary[buffer[skip_window]])\n",
    "            print (\"Label : \", reverse_dictionary[buffer[target]])\n",
    "            print (\"-----\")\n",
    "        \n",
    "        # TEST\n",
    "        print (\"This buffer is end!\")\n",
    "        print (\"^*^*^*^\")\n",
    "        \n",
    "        buffer.append(data[data_index]) # 比如这次搞完了就从后面重新加buffer, 同时原来的数据被从前面删除\n",
    "        data_index = (data_index + 1) % len(data)\n",
    "        \n",
    "    return batch, labels"
   ]
  },
  {
   "cell_type": "code",
   "execution_count": 96,
   "metadata": {},
   "outputs": [
    {
     "name": "stdout",
     "output_type": "stream",
     "text": [
      "data: ['anarchism', 'originated', 'as', 'a', 'term', 'of', 'abuse', 'first']\n"
     ]
    }
   ],
   "source": [
    "print('data:', [reverse_dictionary[di] for di in data[:8]])"
   ]
  },
  {
   "cell_type": "code",
   "execution_count": 85,
   "metadata": {},
   "outputs": [],
   "source": [
    "# 采样次数: 8 // 2 = 4次\n",
    "# (2, 1): skip_window = 1 --> span = 3\n",
    "# for num_skips, skip_window in [(2, 1)]:\n",
    "#     data_index = 0\n",
    "#     batch, labels = generate_batch(batch_size=8, num_skips=num_skips, skip_window=skip_window)\n",
    "#     print('\\nwith num_skips = %d and skip_window = %d:' % (num_skips, skip_window))\n",
    "#     print('    batch:', [reverse_dictionary[bi] for bi in batch])\n",
    "#     print('    labels:', [reverse_dictionary[li] for li in labels.reshape(8)])"
   ]
  },
  {
   "cell_type": "code",
   "execution_count": 86,
   "metadata": {},
   "outputs": [],
   "source": [
    "# 采样次数: 8 // 4 = 2\n",
    "# 窗口大小: 2 * 2 + 1 = 5\n",
    "# for num_skips, skip_window in [(4, 2)]:\n",
    "#     data_index = 0\n",
    "#     batch, labels = generate_batch(batch_size=8, num_skips=num_skips, skip_window=skip_window)\n",
    "#     print('\\nwith num_skips = %d and skip_window = %d:' % (num_skips, skip_window))\n",
    "#     print('    batch:', [reverse_dictionary[bi] for bi in batch])\n",
    "#     print('    labels:', [reverse_dictionary[li] for li in labels.reshape(8)])"
   ]
  },
  {
   "cell_type": "markdown",
   "metadata": {
    "colab_type": "text",
    "id": "Ofd1MbBuwiva"
   },
   "source": [
    "## Train a skip-gram model."
   ]
  },
  {
   "cell_type": "code",
   "execution_count": 99,
   "metadata": {
    "cellView": "both",
    "colab": {
     "autoexec": {
      "startup": false,
      "wait_interval": 0
     }
    },
    "colab_type": "code",
    "collapsed": true,
    "id": "8pQKsV4Vwlzy"
   },
   "outputs": [],
   "source": [
    "batch_size = 128\n",
    "embedding_size = 128 # Dimension of the embedding vector.\n",
    "skip_window = 1 # How many words to consider left and right.\n",
    "num_skips = 2 # How many times to reuse an input to generate a label.\n",
    "# We pick a random validation set to sample nearest neighbors. here we limit the\n",
    "# validation samples to the words that have a low numeric ID, which by\n",
    "# construction are also the most frequent. \n",
    "valid_size = 16 # Random set of words to evaluate similarity on.\n",
    "valid_window = 100 # Only pick dev samples in the head of the distribution.\n",
    "valid_examples = np.array(random.sample(range(valid_window), valid_size))\n",
    "num_sampled = 64 # Number of negative examples to sample --> 确定选几个词在softmax里对比优化"
   ]
  },
  {
   "cell_type": "code",
   "execution_count": 100,
   "metadata": {},
   "outputs": [
    {
     "name": "stdout",
     "output_type": "stream",
     "text": [
      "Embed shape:  (300, 128)\n"
     ]
    }
   ],
   "source": [
    "graph = tf.Graph()\n",
    "\n",
    "with graph.as_default(), tf.device('/cpu:0'):\n",
    "\n",
    "    # Input data.\n",
    "    train_dataset = tf.placeholder(tf.int32, shape=[batch_size]) # x\n",
    "    train_labels = tf.placeholder(tf.int32, shape=[batch_size, 1]) # y\n",
    "    valid_dataset = tf.constant(valid_examples, dtype=tf.int32) # cv数据集\n",
    "  \n",
    "    # Variables.\n",
    "    embeddings = tf.Variable(\n",
    "        tf.random_uniform([vocabulary_size, embedding_size], -1.0, 1.0)\n",
    "        )\n",
    "    softmax_weights = tf.Variable(\n",
    "        tf.truncated_normal([vocabulary_size, embedding_size], stddev=1.0 / math.sqrt(embedding_size))\n",
    "        )\n",
    "    softmax_biases = tf.Variable(tf.zeros([vocabulary_size]))\n",
    "  \n",
    "    # Model.\n",
    "    \n",
    "    # Look up embeddings for inputs: 直接根据embeddings表(50000,128)，取出一个与输入词对应的128个值的embed，也就是128维向量\n",
    "    # 其实是一个batch同时处理\n",
    "    embed = tf.nn.embedding_lookup(embeddings, train_dataset)\n",
    "    \n",
    "    print(\"Embed shape: \", embed.shape) # 128 * 128 --> (batch_size, embedding_size)\n",
    "    \n",
    "    # Compute the softmax loss, using a sample of the negative labels each time.\n",
    "    # reduce_mean: 将loss压到一个数值用于优化\n",
    "    loss = tf.reduce_mean(\n",
    "        tf.nn.sampled_softmax_loss(weights=softmax_weights, \n",
    "                                   biases=softmax_biases, \n",
    "                                   inputs=embed,\n",
    "                                   labels=train_labels, \n",
    "                                   num_sampled=num_sampled, \n",
    "                                   num_classes=vocabulary_size)\n",
    "                        )\n",
    "\n",
    "    # Optimizer: 这里使用Anagrad优化\n",
    "    optimizer = tf.train.AdagradOptimizer(1.0).minimize(loss)\n",
    "  \n",
    "    # Compute the similarity between minibatch examples and all embeddings.\n",
    "    # 使用cosine distance计算一个valid_dataset中单词的相似度:\n",
    "    norm = tf.sqrt(tf.reduce_sum(tf.square(embeddings), 1, keep_dims=True))\n",
    "    normalized_embeddings = embeddings / norm\n",
    "    valid_embeddings = tf.nn.embedding_lookup(normalized_embeddings, valid_dataset)\n",
    "    similarity = tf.matmul(valid_embeddings, tf.transpose(normalized_embeddings))"
   ]
  },
  {
   "cell_type": "code",
   "execution_count": 44,
   "metadata": {
    "cellView": "both",
    "colab": {
     "autoexec": {
      "startup": false,
      "wait_interval": 0
     },
     "output_extras": [
      {
       "item_id": 23
      },
      {
       "item_id": 48
      },
      {
       "item_id": 61
      }
     ]
    },
    "colab_type": "code",
    "executionInfo": {
     "elapsed": 436189,
     "status": "ok",
     "timestamp": 1445965429787,
     "user": {
      "color": "#1FA15D",
      "displayName": "Vincent Vanhoucke",
      "isAnonymous": false,
      "isMe": true,
      "permissionId": "05076109866853157986",
      "photoUrl": "//lh6.googleusercontent.com/-cCJa7dTDcgQ/AAAAAAAAAAI/AAAAAAAACgw/r2EZ_8oYer4/s50-c-k-no/photo.jpg",
      "sessionId": "2f1ffade4c9f20de",
      "userId": "102167687554210253930"
     },
     "user_tz": 420
    },
    "id": "1bQFGceBxrWW",
    "outputId": "5ebd6d9a-33c6-4bcd-bf6d-252b0b6055e4"
   },
   "outputs": [
    {
     "name": "stdout",
     "output_type": "stream",
     "text": [
      "Initialized\n",
      "Average loss at step 0: 8.034115\n",
      "Nearest to it: handbooks, mongols, supporters, yamato, het, congregational, deleuze, rotate,\n",
      "Nearest to has: tended, joule, mortar, huck, hanjour, enough, sui, nsc,\n",
      "Nearest to eight: priscilla, yorkist, mcclure, burmese, shui, eastwood, genetic, titular,\n",
      "Nearest to over: crispus, janitor, cutoff, incapacity, hays, welch, widens, fowler,\n",
      "Nearest to many: polygon, technologically, einer, sculptor, bhaskara, materialist, ballots, edge,\n",
      "Nearest to new: vecchio, descriptor, marginalism, cir, mantua, kala, controllers, fleeting,\n",
      "Nearest to if: xers, concerns, garuda, artificially, errant, serbo, feces, unaltered,\n",
      "Nearest to will: geographic, spiegel, tamed, inaccessible, columbian, inborn, norm, googol,\n",
      "Nearest to often: economically, bunge, traumatic, wallis, socratic, mileage, saud, query,\n",
      "Nearest to so: spec, criminalized, possible, inquest, plymouth, exclude, chuang, veronica,\n",
      "Nearest to were: beginner, esq, taboos, adequacy, cleopatra, secretaries, reflecting, umbilical,\n",
      "Nearest to d: sutter, kantele, pascha, projective, tonight, dear, mandelbrot, euphonium,\n",
      "Nearest to with: procedural, maxims, alchemical, aosta, nanometers, earth, ailment, idiosyncratic,\n",
      "Nearest to have: endogamy, haphazard, pegbox, gast, predicted, buckland, provoking, jefferson,\n",
      "Nearest to one: authentic, cripps, replied, restraint, abjad, ramos, iterative, tamils,\n",
      "Nearest to three: bottles, license, greece, pq, enlargement, cautionary, unranked, pheasants,\n",
      "Average loss at step 2000: 4.357342\n",
      "Average loss at step 4000: 3.832135\n",
      "Average loss at step 6000: 3.766483\n",
      "Average loss at step 8000: 3.705023\n",
      "Average loss at step 10000: 3.498311\n",
      "Nearest to it: he, this, there, not, which, they, mongols, also,\n",
      "Nearest to has: had, was, is, have, sui, huck, waldensians, enough,\n",
      "Nearest to eight: nine, seven, five, six, four, three, two, zero,\n",
      "Nearest to over: incapacity, cutoff, farkas, axes, crispus, widens, janitor, sola,\n",
      "Nearest to many: some, other, mays, these, einer, sculptor, developments, goggles,\n",
      "Nearest to new: marginalism, controllers, vecchio, philological, notified, malaysians, guyer, hannover,\n",
      "Nearest to if: serbo, xers, idempotents, halting, does, habr, since, artificially,\n",
      "Nearest to will: can, megawatts, angiosperm, dioxin, nsted, must, norm, warhol,\n",
      "Nearest to often: just, also, bunge, economically, commodity, mgm, sometimes, there,\n",
      "Nearest to so: possible, blackfoot, flee, triadic, reprisals, boldly, melodramatic, criminalized,\n",
      "Nearest to were: are, was, had, controlling, by, but, fish, be,\n",
      "Nearest to d: b, duress, curves, and, japanese, erasmus, leisurely, soo,\n",
      "Nearest to with: between, in, radical, from, against, for, procedural, into,\n",
      "Nearest to have: be, had, has, are, definitive, membered, filesystem, were,\n",
      "Nearest to one: two, six, zero, four, nine, eight, seven, five,\n",
      "Nearest to three: five, six, four, seven, nine, two, eight, zero,\n",
      "Average loss at step 12000: 3.489229\n",
      "Average loss at step 14000: 3.603526\n",
      "Average loss at step 16000: 3.572431\n",
      "Average loss at step 18000: 3.543686\n",
      "Average loss at step 20000: 3.494923\n",
      "Nearest to it: he, this, there, which, they, she, also, that,\n",
      "Nearest to has: had, is, have, was, gained, became, helen, reliefs,\n",
      "Nearest to eight: four, seven, six, nine, five, three, zero, two,\n",
      "Nearest to over: incapacity, cutoff, farkas, axes, crispus, janitor, daugavpils, during,\n",
      "Nearest to many: some, these, several, other, mays, their, cite, tolerated,\n",
      "Nearest to new: fleeting, vecchio, marginalism, hewitt, malaysians, guyer, controllers, philological,\n",
      "Nearest to if: when, since, halting, vapors, habr, xers, does, idempotents,\n",
      "Nearest to will: can, would, may, must, could, megawatts, should, dioxin,\n",
      "Nearest to often: also, sometimes, there, socratic, commonly, just, still, prejudiced,\n",
      "Nearest to so: possible, flee, inquest, triadic, melodramatic, bottlenose, spec, rnberg,\n",
      "Nearest to were: are, was, had, have, be, is, been, being,\n",
      "Nearest to d: b, duress, japanese, nine, leisurely, katz, kemp, curves,\n",
      "Nearest to with: between, against, in, for, from, stabilise, procedural, into,\n",
      "Nearest to have: had, has, be, are, were, definitive, membered, bondage,\n",
      "Nearest to one: two, seven, eight, nine, four, three, five, moulin,\n",
      "Nearest to three: four, seven, five, two, eight, six, zero, nine,\n",
      "Average loss at step 22000: 3.545754\n",
      "Average loss at step 24000: 3.526051\n",
      "Average loss at step 26000: 3.527528\n",
      "Average loss at step 28000: 3.518708\n",
      "Average loss at step 30000: 3.512988\n",
      "Nearest to it: he, there, this, they, which, she, weightings, still,\n",
      "Nearest to has: had, have, was, is, gained, lie, experienced, harper,\n",
      "Nearest to eight: seven, nine, six, four, five, three, zero, two,\n",
      "Nearest to over: incapacity, farkas, axes, cutoff, drilling, daugavpils, janitor, won,\n",
      "Nearest to many: some, several, these, most, those, mays, all, tolerated,\n",
      "Nearest to new: guyer, fleeting, picnics, marginalism, simple, malaysians, hewitt, dravidians,\n",
      "Nearest to if: when, vapors, rejoicing, habr, since, idempotents, baryogenesis, main,\n",
      "Nearest to will: can, would, may, could, must, should, havoc, groton,\n",
      "Nearest to often: sometimes, also, generally, still, there, commonly, usually, frequently,\n",
      "Nearest to so: inquest, flee, triadic, grantham, delineation, bottlenose, fact, bearing,\n",
      "Nearest to were: are, was, have, been, had, be, while, is,\n",
      "Nearest to d: b, rzeczypospolitej, surfin, kemp, leisurely, katz, h, nice,\n",
      "Nearest to with: between, in, walras, against, from, into, on, radical,\n",
      "Nearest to have: had, has, are, were, be, definitive, bondage, stormy,\n",
      "Nearest to one: seven, two, three, four, six, eight, five, nine,\n",
      "Nearest to three: four, five, seven, six, two, eight, nine, zero,\n",
      "Average loss at step 32000: 3.296587\n",
      "Average loss at step 34000: 3.477247\n",
      "Average loss at step 36000: 3.465907\n",
      "Average loss at step 38000: 3.467999\n",
      "Average loss at step 40000: 3.456070\n",
      "Nearest to it: he, there, this, they, still, which, she, weightings,\n",
      "Nearest to has: had, have, was, is, lie, invert, harper, kekul,\n",
      "Nearest to eight: nine, six, seven, four, five, three, zero, one,\n",
      "Nearest to over: incapacity, farkas, janitor, crispus, daugavpils, tertiary, bnp, during,\n",
      "Nearest to many: some, several, these, those, all, various, dagestan, both,\n",
      "Nearest to new: guyer, environmental, yesterday, hewitt, fifth, youngest, picnics, compression,\n",
      "Nearest to if: when, vapors, where, since, although, though, habr, baryogenesis,\n",
      "Nearest to will: can, would, could, must, may, should, cannot, havoc,\n",
      "Nearest to often: sometimes, also, generally, still, frequently, usually, widely, there,\n",
      "Nearest to so: grantham, criminalized, fact, bottlenose, flee, inquest, bearing, sabbath,\n",
      "Nearest to were: are, was, had, have, been, be, while, those,\n",
      "Nearest to d: b, e, rzeczypospolitej, projective, agendas, must, grindcore, f,\n",
      "Nearest to with: between, against, radical, in, into, bandits, walras, procedural,\n",
      "Nearest to have: had, has, were, be, are, include, conspicuous, stormy,\n",
      "Nearest to one: two, four, eight, three, seven, five, six, nine,\n",
      "Nearest to three: four, six, five, eight, seven, two, nine, zero,\n",
      "Average loss at step 42000: 3.408598\n",
      "Average loss at step 44000: 3.376046\n",
      "Average loss at step 46000: 3.413775\n",
      "Average loss at step 48000: 3.444938\n",
      "Average loss at step 50000: 3.462988\n",
      "Nearest to it: he, this, there, she, they, behaviorist, which, weightings,\n",
      "Nearest to has: had, have, was, is, having, experienced, shark, although,\n",
      "Nearest to eight: nine, seven, six, four, five, zero, three, two,\n",
      "Nearest to over: incapacity, farkas, sola, crispus, great, assimilation, about, daugavpils,\n",
      "Nearest to many: some, several, various, these, those, both, all, mays,\n",
      "Nearest to new: guyer, hewitt, environmental, shankar, second, picnics, compression, othniel,\n",
      "Nearest to if: when, where, though, since, although, vapors, effectively, feces,\n",
      "Nearest to will: would, could, can, may, must, should, cannot, might,\n",
      "Nearest to often: sometimes, usually, generally, still, frequently, commonly, widely, also,\n",
      "Nearest to so: grantham, bjp, bearing, bottlenose, indicates, aspirant, delineation, flee,\n",
      "Nearest to were: are, have, was, had, been, those, while, saving,\n",
      "Nearest to d: b, r, e, rzeczypospolitej, m, g, agendas, y,\n",
      "Nearest to with: between, propagated, against, and, walras, ethical, stabilise, under,\n",
      "Nearest to have: had, has, were, are, be, include, stormy, struct,\n",
      "Nearest to one: two, seven, six, five, three, four, eight, nine,\n",
      "Nearest to three: four, six, two, five, eight, seven, zero, nine,\n"
     ]
    },
    {
     "name": "stdout",
     "output_type": "stream",
     "text": [
      "Average loss at step 52000: 3.402206\n",
      "Average loss at step 54000: 3.438461\n",
      "Average loss at step 56000: 3.294799\n",
      "Average loss at step 58000: 3.211413\n",
      "Average loss at step 60000: 3.432671\n",
      "Nearest to it: he, there, she, this, they, illegally, weightings, which,\n",
      "Nearest to has: had, have, was, is, shark, since, includes, having,\n",
      "Nearest to eight: seven, six, nine, five, four, three, zero, two,\n",
      "Nearest to over: about, assimilation, farkas, mitochondrial, around, icj, under, incapacity,\n",
      "Nearest to many: some, several, various, these, those, all, other, mays,\n",
      "Nearest to new: guyer, fifth, hewitt, environmental, picnics, compression, astrologically, separate,\n",
      "Nearest to if: when, though, where, vapors, since, after, although, before,\n",
      "Nearest to will: would, could, can, may, must, should, cannot, might,\n",
      "Nearest to often: sometimes, usually, generally, still, frequently, also, now, commonly,\n",
      "Nearest to so: bjp, bottlenose, indicates, grantham, fact, sometimes, bearing, aspirant,\n",
      "Nearest to were: are, have, was, while, had, include, been, those,\n",
      "Nearest to d: b, rzeczypospolitej, projective, r, kilby, h, medusa, p,\n",
      "Nearest to with: between, against, including, among, ethical, contravariant, stabilise, gripped,\n",
      "Nearest to have: had, has, are, were, be, remain, successfully, having,\n",
      "Nearest to one: two, five, seven, six, four, three, eight, nine,\n",
      "Nearest to three: two, six, five, four, seven, eight, nine, zero,\n",
      "Average loss at step 62000: 3.386734\n",
      "Average loss at step 64000: 3.381518\n",
      "Average loss at step 66000: 3.400684\n",
      "Average loss at step 68000: 3.392145\n",
      "Average loss at step 70000: 3.299326\n",
      "Nearest to it: he, there, she, they, this, which, nothing, often,\n",
      "Nearest to has: had, have, is, was, having, experienced, includes, orie,\n",
      "Nearest to eight: nine, seven, six, five, four, zero, three, two,\n",
      "Nearest to over: assimilation, around, about, icj, incapacity, mitochondrial, aron, ernesto,\n",
      "Nearest to many: some, several, various, all, these, most, both, those,\n",
      "Nearest to new: guyer, fifth, environmental, hewitt, outcome, picnics, astrologically, fleeting,\n",
      "Nearest to if: when, though, where, since, before, vapors, after, lonsdaleite,\n",
      "Nearest to will: would, could, can, may, must, should, cannot, does,\n",
      "Nearest to often: sometimes, usually, generally, frequently, now, commonly, still, also,\n",
      "Nearest to so: sometimes, indicates, too, bearing, aspirant, bottlenose, grantham, thane,\n",
      "Nearest to were: are, was, have, had, been, although, while, these,\n",
      "Nearest to d: b, f, rzeczypospolitej, projective, opioid, h, pez, r,\n",
      "Nearest to with: between, among, walras, bligh, ethical, ik, bandits, stabilise,\n",
      "Nearest to have: had, has, are, were, be, tend, successfully, include,\n",
      "Nearest to one: two, six, seven, five, four, three, eight, nine,\n",
      "Nearest to three: two, four, five, six, seven, eight, nine, one,\n",
      "Average loss at step 72000: 3.353740\n",
      "Average loss at step 74000: 3.385001\n",
      "Average loss at step 76000: 3.415866\n",
      "Average loss at step 78000: 3.416516\n",
      "Average loss at step 80000: 3.400321\n",
      "Nearest to it: he, she, this, there, they, usually, we, which,\n",
      "Nearest to has: had, have, is, was, having, includes, makes, shark,\n",
      "Nearest to eight: seven, five, nine, six, four, three, zero, two,\n",
      "Nearest to over: around, about, under, within, incapacity, meyers, icj, during,\n",
      "Nearest to many: some, several, various, these, those, most, all, both,\n",
      "Nearest to new: guyer, fifth, adverbs, plateau, fleeting, penh, astrologically, hewitt,\n",
      "Nearest to if: when, though, where, although, since, does, follows, will,\n",
      "Nearest to will: would, can, could, may, must, should, cannot, might,\n",
      "Nearest to often: sometimes, usually, commonly, frequently, generally, now, still, widely,\n",
      "Nearest to so: aspirant, indicates, before, too, lexical, thy, posing, fact,\n",
      "Nearest to were: are, was, have, had, those, while, although, saving,\n",
      "Nearest to d: b, f, rzeczypospolitej, mall, opioid, r, h, projective,\n",
      "Nearest to with: between, within, walras, in, peaceful, ethical, from, through,\n",
      "Nearest to have: had, has, were, are, having, include, be, contain,\n",
      "Nearest to one: two, seven, six, eight, four, nine, five, three,\n",
      "Nearest to three: two, four, seven, five, eight, six, nine, zero,\n",
      "Average loss at step 82000: 3.367590\n",
      "Average loss at step 84000: 3.370104\n",
      "Average loss at step 86000: 3.403504\n",
      "Average loss at step 88000: 3.276903\n",
      "Average loss at step 90000: 3.354725\n",
      "Nearest to it: he, she, there, this, they, nothing, which, we,\n",
      "Nearest to has: had, have, is, was, includes, since, having, contains,\n",
      "Nearest to eight: seven, nine, six, four, five, three, zero, two,\n",
      "Nearest to over: around, about, meyers, collingwood, nearly, out, within, assimilation,\n",
      "Nearest to many: some, several, these, various, those, all, most, tolerated,\n",
      "Nearest to new: guyer, hewitt, fifth, astrologically, separate, rodriguez, plateau, reuniting,\n",
      "Nearest to if: when, though, before, where, unless, although, follows, while,\n",
      "Nearest to will: would, can, could, may, must, should, might, cannot,\n",
      "Nearest to often: sometimes, usually, generally, commonly, frequently, now, typically, widely,\n",
      "Nearest to so: too, indicates, then, codomain, aspirant, lexical, administered, ghetto,\n",
      "Nearest to were: are, have, was, while, had, although, those, these,\n",
      "Nearest to d: b, h, george, joe, maximizes, wilson, c, tonight,\n",
      "Nearest to with: between, incapacity, including, using, aspartic, demonic, ethical, by,\n",
      "Nearest to have: had, has, were, are, contain, be, tend, include,\n",
      "Nearest to one: two, six, seven, eight, four, five, three, nine,\n",
      "Nearest to three: five, four, six, seven, two, eight, nine, zero,\n",
      "Average loss at step 92000: 3.252891\n",
      "Average loss at step 94000: 3.350389\n",
      "Average loss at step 96000: 3.354528\n",
      "Average loss at step 98000: 3.338225\n",
      "Average loss at step 100000: 3.339076\n",
      "Nearest to it: he, she, there, this, they, nothing, we, never,\n",
      "Nearest to has: had, have, is, was, shark, includes, contains, having,\n",
      "Nearest to eight: seven, six, nine, five, four, three, zero, two,\n",
      "Nearest to over: around, about, through, within, daugavpils, meyers, off, jargon,\n",
      "Nearest to many: some, several, these, all, various, those, numerous, most,\n",
      "Nearest to new: adverbs, hewitt, guyer, separate, incited, astrologically, chico, penh,\n",
      "Nearest to if: when, though, although, should, where, because, will, is,\n",
      "Nearest to will: would, could, can, should, may, must, might, cannot,\n",
      "Nearest to often: sometimes, usually, generally, frequently, commonly, now, typically, widely,\n",
      "Nearest to so: too, then, indicates, codomain, quite, trimmed, bearing, posing,\n",
      "Nearest to were: are, was, have, those, while, had, liners, these,\n",
      "Nearest to d: b, projective, george, abu, mus, katz, r, japanese,\n",
      "Nearest to with: between, by, using, within, ethical, including, into, neologism,\n",
      "Nearest to have: had, has, are, tend, include, be, were, contain,\n",
      "Nearest to one: two, five, six, seven, eight, four, three, moulin,\n",
      "Nearest to three: four, six, five, eight, seven, two, nine, zero,\n"
     ]
    }
   ],
   "source": [
    "num_steps = 100001\n",
    "\n",
    "with tf.Session(graph=graph) as session:\n",
    "    tf.global_variables_initializer().run()\n",
    "    # tf.initialize_all_variables().run()\n",
    "    print('Initialized')\n",
    "    average_loss = 0\n",
    "  \n",
    "    # 每一次迭代, 从generate_batch中生成一个batch的训练数据作为feed_dict, 生成placeholder(data, label)\n",
    "    for step in range(num_steps):\n",
    "        batch_data, batch_labels = generate_batch(batch_size, num_skips, skip_window)\n",
    "        feed_dict = {train_dataset : batch_data, train_labels : batch_labels}\n",
    "        _, l = session.run([optimizer, loss], feed_dict=feed_dict)\n",
    "        average_loss += l\n",
    "    \n",
    "        # 每2000次输出一次平均loss\n",
    "        if step % 2000 == 0:\n",
    "            if step > 0:\n",
    "                average_loss = average_loss / 2000\n",
    "            # The average loss is an estimate of the loss over the last 2000 batches.\n",
    "            print('Average loss at step %d: %f' % (step, average_loss))\n",
    "            average_loss = 0\n",
    "    \n",
    "        # 每10000次获取一下similarity对应的词 --> 输出几个最相似的词用于人工检验\n",
    "        if step % 10000 == 0:\n",
    "            sim = similarity.eval()\n",
    "            for i in range(valid_size):\n",
    "                valid_word = reverse_dictionary[valid_examples[i]]\n",
    "                top_k = 8 # number of nearest neighbors\n",
    "                nearest = (-sim[i, :]).argsort()[1:top_k+1]\n",
    "                log = 'Nearest to %s:' % valid_word\n",
    "                for k in range(top_k):\n",
    "                    close_word = reverse_dictionary[nearest[k]]\n",
    "                    log = '%s %s,' % (log, close_word)\n",
    "                print(log)\n",
    "    # 获取最后的向量空间, 可用于可视化\n",
    "    final_embeddings = normalized_embeddings.eval()"
   ]
  },
  {
   "cell_type": "markdown",
   "metadata": {},
   "source": [
    "## Visualisation"
   ]
  },
  {
   "cell_type": "code",
   "execution_count": 1,
   "metadata": {
    "cellView": "both",
    "colab": {
     "autoexec": {
      "startup": false,
      "wait_interval": 0
     }
    },
    "colab_type": "code",
    "id": "jjJXYA_XzV79"
   },
   "outputs": [
    {
     "ename": "NameError",
     "evalue": "name 'TSNE' is not defined",
     "output_type": "error",
     "traceback": [
      "\u001b[0;31m---------------------------------------------------------------------------\u001b[0m",
      "\u001b[0;31mNameError\u001b[0m                                 Traceback (most recent call last)",
      "\u001b[0;32m<ipython-input-1-c6098c2ac745>\u001b[0m in \u001b[0;36m<module>\u001b[0;34m()\u001b[0m\n\u001b[1;32m      1\u001b[0m \u001b[0mnum_points\u001b[0m \u001b[0;34m=\u001b[0m \u001b[0;36m400\u001b[0m\u001b[0;34m\u001b[0m\u001b[0m\n\u001b[0;32m----> 2\u001b[0;31m \u001b[0mtsne\u001b[0m \u001b[0;34m=\u001b[0m \u001b[0mTSNE\u001b[0m\u001b[0;34m(\u001b[0m\u001b[0mperplexity\u001b[0m\u001b[0;34m=\u001b[0m\u001b[0;36m30\u001b[0m\u001b[0;34m,\u001b[0m \u001b[0mn_components\u001b[0m\u001b[0;34m=\u001b[0m\u001b[0;36m2\u001b[0m\u001b[0;34m,\u001b[0m \u001b[0minit\u001b[0m\u001b[0;34m=\u001b[0m\u001b[0;34m'pca'\u001b[0m\u001b[0;34m,\u001b[0m \u001b[0mn_iter\u001b[0m\u001b[0;34m=\u001b[0m\u001b[0;36m5000\u001b[0m\u001b[0;34m,\u001b[0m \u001b[0mmethod\u001b[0m\u001b[0;34m=\u001b[0m\u001b[0;34m'exact'\u001b[0m\u001b[0;34m)\u001b[0m\u001b[0;34m\u001b[0m\u001b[0m\n\u001b[0m\u001b[1;32m      3\u001b[0m \u001b[0mtwo_d_embeddings\u001b[0m \u001b[0;34m=\u001b[0m \u001b[0mtsne\u001b[0m\u001b[0;34m.\u001b[0m\u001b[0mfit_transform\u001b[0m\u001b[0;34m(\u001b[0m\u001b[0mfinal_embeddings\u001b[0m\u001b[0;34m[\u001b[0m\u001b[0;36m1\u001b[0m\u001b[0;34m:\u001b[0m\u001b[0mnum_points\u001b[0m\u001b[0;34m+\u001b[0m\u001b[0;36m1\u001b[0m\u001b[0;34m,\u001b[0m \u001b[0;34m:\u001b[0m\u001b[0;34m]\u001b[0m\u001b[0;34m)\u001b[0m\u001b[0;34m\u001b[0m\u001b[0m\n",
      "\u001b[0;31mNameError\u001b[0m: name 'TSNE' is not defined"
     ]
    }
   ],
   "source": [
    "num_points = 400\n",
    "tsne = TSNE(perplexity=30, n_components=2, init='pca', n_iter=5000, method='exact')\n",
    "two_d_embeddings = tsne.fit_transform(final_embeddings[1:num_points+1, :])"
   ]
  },
  {
   "cell_type": "code",
   "execution_count": 2,
   "metadata": {
    "cellView": "both",
    "colab": {
     "autoexec": {
      "startup": false,
      "wait_interval": 0
     },
     "output_extras": [
      {
       "item_id": 1
      }
     ]
    },
    "colab_type": "code",
    "executionInfo": {
     "elapsed": 4763,
     "status": "ok",
     "timestamp": 1445965465525,
     "user": {
      "color": "#1FA15D",
      "displayName": "Vincent Vanhoucke",
      "isAnonymous": false,
      "isMe": true,
      "permissionId": "05076109866853157986",
      "photoUrl": "//lh6.googleusercontent.com/-cCJa7dTDcgQ/AAAAAAAAAAI/AAAAAAAACgw/r2EZ_8oYer4/s50-c-k-no/photo.jpg",
      "sessionId": "2f1ffade4c9f20de",
      "userId": "102167687554210253930"
     },
     "user_tz": 420
    },
    "id": "o_e0D_UezcDe",
    "outputId": "df22e4a5-e8ec-4e5e-d384-c6cf37c68c34"
   },
   "outputs": [
    {
     "ename": "NameError",
     "evalue": "name 'reverse_dictionary' is not defined",
     "output_type": "error",
     "traceback": [
      "\u001b[0;31m---------------------------------------------------------------------------\u001b[0m",
      "\u001b[0;31mNameError\u001b[0m                                 Traceback (most recent call last)",
      "\u001b[0;32m<ipython-input-2-60644b7b42e2>\u001b[0m in \u001b[0;36m<module>\u001b[0;34m()\u001b[0m\n\u001b[1;32m      9\u001b[0m   \u001b[0mpylab\u001b[0m\u001b[0;34m.\u001b[0m\u001b[0mshow\u001b[0m\u001b[0;34m(\u001b[0m\u001b[0;34m)\u001b[0m\u001b[0;34m\u001b[0m\u001b[0m\n\u001b[1;32m     10\u001b[0m \u001b[0;34m\u001b[0m\u001b[0m\n\u001b[0;32m---> 11\u001b[0;31m \u001b[0mwords\u001b[0m \u001b[0;34m=\u001b[0m \u001b[0;34m[\u001b[0m\u001b[0mreverse_dictionary\u001b[0m\u001b[0;34m[\u001b[0m\u001b[0mi\u001b[0m\u001b[0;34m]\u001b[0m \u001b[0;32mfor\u001b[0m \u001b[0mi\u001b[0m \u001b[0;32min\u001b[0m \u001b[0mrange\u001b[0m\u001b[0;34m(\u001b[0m\u001b[0;36m1\u001b[0m\u001b[0;34m,\u001b[0m \u001b[0mnum_points\u001b[0m\u001b[0;34m+\u001b[0m\u001b[0;36m1\u001b[0m\u001b[0;34m)\u001b[0m\u001b[0;34m]\u001b[0m\u001b[0;34m\u001b[0m\u001b[0m\n\u001b[0m\u001b[1;32m     12\u001b[0m \u001b[0mplot\u001b[0m\u001b[0;34m(\u001b[0m\u001b[0mtwo_d_embeddings\u001b[0m\u001b[0;34m,\u001b[0m \u001b[0mwords\u001b[0m\u001b[0;34m)\u001b[0m\u001b[0;34m\u001b[0m\u001b[0m\n",
      "\u001b[0;31mNameError\u001b[0m: name 'reverse_dictionary' is not defined"
     ]
    }
   ],
   "source": [
    "def plot(embeddings, labels):\n",
    "  assert embeddings.shape[0] >= len(labels), 'More labels than embeddings'\n",
    "  pylab.figure(figsize=(15,15))  # in inches\n",
    "  for i, label in enumerate(labels):\n",
    "    x, y = embeddings[i,:]\n",
    "    pylab.scatter(x, y)\n",
    "    pylab.annotate(label, xy=(x, y), xytext=(5, 2), textcoords='offset points',\n",
    "                   ha='right', va='bottom')\n",
    "  pylab.show()\n",
    "\n",
    "words = [reverse_dictionary[i] for i in range(1, num_points+1)]\n",
    "plot(two_d_embeddings, words)"
   ]
  },
  {
   "cell_type": "markdown",
   "metadata": {
    "colab_type": "text",
    "id": "QB5EFrBnpNnc"
   },
   "source": [
    "---\n",
    "\n",
    "Problem\n",
    "-------\n",
    "\n",
    "An alternative to skip-gram is another Word2Vec model called [CBOW](http://arxiv.org/abs/1301.3781) (Continuous Bag of Words). In the CBOW model, instead of predicting a context word from a word vector, you predict a word from the sum of all the word vectors in its context. Implement and evaluate a CBOW model trained on the text8 dataset.\n",
    "\n",
    "---"
   ]
  }
 ],
 "metadata": {
  "colab": {
   "default_view": {},
   "name": "5_word2vec.ipynb",
   "provenance": [],
   "version": "0.3.2",
   "views": {}
  },
  "kernelspec": {
   "display_name": "Python [default]",
   "language": "python",
   "name": "python2"
  },
  "language_info": {
   "codemirror_mode": {
    "name": "ipython",
    "version": 2
   },
   "file_extension": ".py",
   "mimetype": "text/x-python",
   "name": "python",
   "nbconvert_exporter": "python",
   "pygments_lexer": "ipython2",
   "version": "2.7.13"
  }
 },
 "nbformat": 4,
 "nbformat_minor": 1
}
